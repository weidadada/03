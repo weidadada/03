{
 "cells": [
  {
   "cell_type": "code",
   "execution_count": 3,
   "metadata": {},
   "outputs": [],
   "source": [
    "from collections import defaultdict\n",
    "original_price = [1, 5, 8, 9, 10, 17, 17, 20, 24, 30]\n",
    "price = defaultdict(int)\n",
    "for i, p in enumerate(original_price):\n",
    "    price[i+1] = p\n",
    "assert price[1] == 1#在assert后面跟上任意判断条件，如果断言失败则会抛出异常。"
   ]
  },
  {
   "cell_type": "code",
   "execution_count": 48,
   "metadata": {},
   "outputs": [
    {
     "data": {
      "text/plain": [
       "30"
      ]
     },
     "execution_count": 48,
     "metadata": {},
     "output_type": "execute_result"
    }
   ],
   "source": [
    "price[10]"
   ]
  },
  {
   "cell_type": "markdown",
   "metadata": {},
   "source": [
    "# python 面向函数特点"
   ]
  },
  {
   "cell_type": "code",
   "execution_count": 3,
   "metadata": {},
   "outputs": [],
   "source": [
    "def example(f, arg):\n",
    "    return f(arg)"
   ]
  },
  {
   "cell_type": "code",
   "execution_count": 4,
   "metadata": {},
   "outputs": [],
   "source": [
    "def f_add_ten(num):\n",
    "    return num + 10"
   ]
  },
  {
   "cell_type": "code",
   "execution_count": 5,
   "metadata": {},
   "outputs": [
    {
     "data": {
      "text/plain": [
       "110"
      ]
     },
     "execution_count": 5,
     "metadata": {},
     "output_type": "execute_result"
    }
   ],
   "source": [
    "example(f_add_ten,100)"
   ]
  },
  {
   "cell_type": "markdown",
   "metadata": {},
   "source": [
    "# "
   ]
  },
  {
   "cell_type": "code",
   "execution_count": 23,
   "metadata": {},
   "outputs": [],
   "source": [
    "called_time = defaultdict(int)\n",
    "\n",
    "def get_call_times(f):\n",
    "    result = f()\n",
    "    print('function: {} called once! '.format(f.__name__))#f.__name__函数名称\n",
    "    called_time[f.__name__] += 1\n",
    "    \n",
    "    return result"
   ]
  },
  {
   "cell_type": "code",
   "execution_count": 10,
   "metadata": {},
   "outputs": [],
   "source": [
    "def some_funcion_1(): print('I am function 1')"
   ]
  },
  {
   "cell_type": "code",
   "execution_count": 14,
   "metadata": {},
   "outputs": [
    {
     "name": "stdout",
     "output_type": "stream",
     "text": [
      "I am function 1\n",
      "function: some_funcion_1 called once! \n"
     ]
    }
   ],
   "source": [
    "get_call_times(some_funcion_1)"
   ]
  },
  {
   "cell_type": "code",
   "execution_count": 15,
   "metadata": {},
   "outputs": [
    {
     "data": {
      "text/plain": [
       "defaultdict(int, {'some_funcion_1': 2})"
      ]
     },
     "execution_count": 15,
     "metadata": {},
     "output_type": "execute_result"
    }
   ],
   "source": [
    "called_time"
   ]
  },
  {
   "cell_type": "markdown",
   "metadata": {},
   "source": [
    "# "
   ]
  },
  {
   "cell_type": "code",
   "execution_count": 34,
   "metadata": {},
   "outputs": [],
   "source": [
    "def r(n):   \n",
    "    return max(\n",
    "        [price[n]] + [r(i) + r(n-i) for i in range(1, n)]\n",
    "    )"
   ]
  },
  {
   "cell_type": "code",
   "execution_count": 54,
   "metadata": {},
   "outputs": [
    {
     "data": {
      "text/plain": [
       "48"
      ]
     },
     "execution_count": 54,
     "metadata": {},
     "output_type": "execute_result"
    }
   ],
   "source": [
    "r(20)#没有加入 Dynamic Programming运算量太大"
   ]
  },
  {
   "cell_type": "code",
   "execution_count": 11,
   "metadata": {},
   "outputs": [],
   "source": [
    "from functools import wraps"
   ]
  },
  {
   "cell_type": "code",
   "execution_count": 9,
   "metadata": {},
   "outputs": [],
   "source": [
    "called_time_with_arg = defaultdict(int)\n",
    "\n",
    "def get_call_time(f):\n",
    "    \"\"\"@param f is a function\"\"\"\n",
    "    @wraps(f)#@wraps 让我们被装饰的函数保持自己的一些私有属性\n",
    "    def wrap(n):\n",
    "        \"\"\"Haha I am warp\"\"\"\n",
    "        #print('I can count')\n",
    "        result = f(n)\n",
    "        called_time_with_arg[(f.__name__, n)] += 1\n",
    "        return result\n",
    "    return wrap"
   ]
  },
  {
   "cell_type": "code",
   "execution_count": 24,
   "metadata": {},
   "outputs": [],
   "source": [
    "def add_ten(n): return n + 10"
   ]
  },
  {
   "cell_type": "code",
   "execution_count": 25,
   "metadata": {},
   "outputs": [
    {
     "data": {
      "text/plain": [
       "20"
      ]
     },
     "execution_count": 25,
     "metadata": {},
     "output_type": "execute_result"
    }
   ],
   "source": [
    "add_ten(10)"
   ]
  },
  {
   "cell_type": "code",
   "execution_count": 26,
   "metadata": {},
   "outputs": [],
   "source": [
    "add_ten = get_call_time(add_ten)"
   ]
  },
  {
   "cell_type": "code",
   "execution_count": 27,
   "metadata": {},
   "outputs": [
    {
     "name": "stdout",
     "output_type": "stream",
     "text": [
      "I can count\n"
     ]
    },
    {
     "data": {
      "text/plain": [
       "20"
      ]
     },
     "execution_count": 27,
     "metadata": {},
     "output_type": "execute_result"
    }
   ],
   "source": [
    "add_ten(10)"
   ]
  },
  {
   "cell_type": "code",
   "execution_count": 28,
   "metadata": {},
   "outputs": [],
   "source": [
    "@get_call_time#装饰器的作用，相当于add_twenty = get_call_time(add_twenty)\n",
    "def add_twenty(n): \n",
    "    return n + 20"
   ]
  },
  {
   "cell_type": "code",
   "execution_count": 29,
   "metadata": {},
   "outputs": [
    {
     "name": "stdout",
     "output_type": "stream",
     "text": [
      "I can count\n"
     ]
    },
    {
     "data": {
      "text/plain": [
       "29"
      ]
     },
     "execution_count": 29,
     "metadata": {},
     "output_type": "execute_result"
    }
   ],
   "source": [
    "add_twenty(9)"
   ]
  },
  {
   "cell_type": "markdown",
   "metadata": {},
   "source": [
    "# "
   ]
  },
  {
   "cell_type": "code",
   "execution_count": 97,
   "metadata": {},
   "outputs": [],
   "source": [
    "called_time_with_arg = defaultdict(int)"
   ]
  },
  {
   "cell_type": "code",
   "execution_count": 98,
   "metadata": {},
   "outputs": [],
   "source": [
    "solution = {}"
   ]
  },
  {
   "cell_type": "code",
   "execution_count": 99,
   "metadata": {},
   "outputs": [],
   "source": [
    "@get_call_time\n",
    "def r(n):\n",
    "    \"\"\"\n",
    "    Args: n is the iron length\n",
    "    Return: the max revenue \n",
    "    \"\"\"\n",
    "    max_price, max_split = max(\n",
    "        [(price[n], 0)] + [(r(i) + r(n-i), i) for i in range(1, n)], key=lambda x: x[0]\n",
    "    )\n",
    "\n",
    "    solution[n] = (n - max_split, max_split)\n",
    "    \n",
    "    return max_price"
   ]
  },
  {
   "cell_type": "code",
   "execution_count": 100,
   "metadata": {},
   "outputs": [
    {
     "data": {
      "text/plain": [
       "31"
      ]
     },
     "execution_count": 100,
     "metadata": {},
     "output_type": "execute_result"
    }
   ],
   "source": [
    "r(11)"
   ]
  },
  {
   "cell_type": "code",
   "execution_count": 101,
   "metadata": {},
   "outputs": [
    {
     "data": {
      "text/plain": [
       "defaultdict(int,\n",
       "            {('r', 1): 39366,\n",
       "             ('r', 2): 13122,\n",
       "             ('r', 3): 4374,\n",
       "             ('r', 4): 1458,\n",
       "             ('r', 5): 486,\n",
       "             ('r', 6): 162,\n",
       "             ('r', 7): 54,\n",
       "             ('r', 8): 18,\n",
       "             ('r', 9): 6,\n",
       "             ('r', 10): 2,\n",
       "             ('r', 11): 1})"
      ]
     },
     "execution_count": 101,
     "metadata": {},
     "output_type": "execute_result"
    }
   ],
   "source": [
    "called_time_with_arg"
   ]
  },
  {
   "cell_type": "code",
   "execution_count": 103,
   "metadata": {},
   "outputs": [
    {
     "data": {
      "text/plain": [
       "[(('r', 1), 39366),\n",
       " (('r', 2), 13122),\n",
       " (('r', 3), 4374),\n",
       " (('r', 4), 1458),\n",
       " (('r', 5), 486),\n",
       " (('r', 6), 162),\n",
       " (('r', 7), 54),\n",
       " (('r', 8), 18),\n",
       " (('r', 9), 6),\n",
       " (('r', 10), 2),\n",
       " (('r', 11), 1)]"
      ]
     },
     "execution_count": 103,
     "metadata": {},
     "output_type": "execute_result"
    }
   ],
   "source": [
    "from collections import Counter\n",
    "Counter(called_time_with_arg).most_common()"
   ]
  },
  {
   "cell_type": "code",
   "execution_count": 78,
   "metadata": {},
   "outputs": [
    {
     "data": {
      "text/plain": [
       "{1: (1, 0),\n",
       " 2: (2, 0),\n",
       " 3: (3, 0),\n",
       " 4: (2, 2),\n",
       " 5: (3, 2),\n",
       " 6: (6, 0),\n",
       " 7: (6, 1),\n",
       " 8: (6, 2),\n",
       " 9: (6, 3),\n",
       " 10: (10, 0),\n",
       " 11: (10, 1)}"
      ]
     },
     "execution_count": 78,
     "metadata": {},
     "output_type": "execute_result"
    }
   ],
   "source": [
    "solution"
   ]
  },
  {
   "cell_type": "code",
   "execution_count": 62,
   "metadata": {},
   "outputs": [],
   "source": [
    "def parse_solution(n):\n",
    "    left_split, right_split = solution[n]\n",
    "    \n",
    "    if right_split == 0: return [left_split]\n",
    "    \n",
    "    return parse_solution(left_split) + parse_solution(right_split)"
   ]
  },
  {
   "cell_type": "code",
   "execution_count": 81,
   "metadata": {},
   "outputs": [
    {
     "data": {
      "text/plain": [
       "31"
      ]
     },
     "execution_count": 81,
     "metadata": {},
     "output_type": "execute_result"
    }
   ],
   "source": [
    "r(11)"
   ]
  },
  {
   "cell_type": "code",
   "execution_count": 82,
   "metadata": {},
   "outputs": [
    {
     "data": {
      "text/plain": [
       "[10, 1]"
      ]
     },
     "execution_count": 82,
     "metadata": {},
     "output_type": "execute_result"
    }
   ],
   "source": [
    "parse_solution(11)"
   ]
  },
  {
   "cell_type": "markdown",
   "metadata": {},
   "source": [
    "# Dynamic Programming"
   ]
  },
  {
   "cell_type": "code",
   "execution_count": 4,
   "metadata": {},
   "outputs": [],
   "source": [
    "def memo(f): #查表法\n",
    "    memo.already_computed = {}\n",
    "    @wraps(f)\n",
    "    def _wrap(arg):\n",
    "        result = None\n",
    "        \n",
    "        if arg in memo.already_computed: \n",
    "            result = memo.already_computed[arg]\n",
    "        else:\n",
    "            result = f(arg)\n",
    "            memo.already_computed[arg] = result\n",
    "        \n",
    "        return result\n",
    "    \n",
    "    return _wrap"
   ]
  },
  {
   "cell_type": "code",
   "execution_count": 5,
   "metadata": {},
   "outputs": [],
   "source": [
    "called_time_with_arg_dynamic = defaultdict(int)"
   ]
  },
  {
   "cell_type": "code",
   "execution_count": 6,
   "metadata": {},
   "outputs": [],
   "source": [
    "solution_dynamic= {}"
   ]
  },
  {
   "cell_type": "code",
   "execution_count": 7,
   "metadata": {},
   "outputs": [],
   "source": [
    "memo.already_computed = {}#表"
   ]
  },
  {
   "cell_type": "code",
   "execution_count": 14,
   "metadata": {},
   "outputs": [],
   "source": [
    "@memo\n",
    "@get_call_time\n",
    "def r(n):\n",
    "    \"\"\"\n",
    "    Args: n is the iron length\n",
    "    Return: the max revenue \n",
    "    \"\"\"\n",
    "    max_price, max_split = max(\n",
    "        [(price[n], 0)] + [(r(i) + r(n-i), i) for i in range(1, n)], key=lambda x: x[0]\n",
    "    )\n",
    "\n",
    "    solution_dynamic[n] = (n - max_split, max_split)\n",
    "    \n",
    "    return max_price"
   ]
  },
  {
   "cell_type": "code",
   "execution_count": 15,
   "metadata": {},
   "outputs": [
    {
     "data": {
      "text/plain": [
       "180"
      ]
     },
     "execution_count": 15,
     "metadata": {},
     "output_type": "execute_result"
    }
   ],
   "source": [
    "r(60)"
   ]
  },
  {
   "cell_type": "code",
   "execution_count": 19,
   "metadata": {},
   "outputs": [
    {
     "data": {
      "text/plain": [
       "{1: (1, 0),\n",
       " 2: (2, 0),\n",
       " 3: (3, 0),\n",
       " 4: (2, 2),\n",
       " 5: (3, 2),\n",
       " 6: (6, 0),\n",
       " 7: (6, 1),\n",
       " 8: (6, 2),\n",
       " 9: (6, 3),\n",
       " 10: (10, 0),\n",
       " 11: (10, 1),\n",
       " 12: (10, 2),\n",
       " 13: (10, 3),\n",
       " 14: (12, 2),\n",
       " 15: (13, 2),\n",
       " 16: (10, 6),\n",
       " 17: (16, 1),\n",
       " 18: (16, 2),\n",
       " 19: (16, 3),\n",
       " 20: (10, 10),\n",
       " 21: (20, 1),\n",
       " 22: (20, 2),\n",
       " 23: (20, 3),\n",
       " 24: (22, 2),\n",
       " 25: (23, 2),\n",
       " 26: (20, 6),\n",
       " 27: (26, 1),\n",
       " 28: (26, 2),\n",
       " 29: (26, 3),\n",
       " 30: (20, 10),\n",
       " 31: (30, 1),\n",
       " 32: (30, 2),\n",
       " 33: (30, 3),\n",
       " 34: (32, 2),\n",
       " 35: (33, 2),\n",
       " 36: (30, 6),\n",
       " 37: (36, 1),\n",
       " 38: (36, 2),\n",
       " 39: (36, 3),\n",
       " 40: (30, 10),\n",
       " 41: (40, 1),\n",
       " 42: (40, 2),\n",
       " 43: (40, 3),\n",
       " 44: (42, 2),\n",
       " 45: (43, 2),\n",
       " 46: (40, 6),\n",
       " 47: (46, 1),\n",
       " 48: (46, 2),\n",
       " 49: (46, 3),\n",
       " 50: (40, 10),\n",
       " 51: (50, 1),\n",
       " 52: (50, 2),\n",
       " 53: (50, 3),\n",
       " 54: (52, 2),\n",
       " 55: (53, 2),\n",
       " 56: (50, 6),\n",
       " 57: (56, 1),\n",
       " 58: (56, 2),\n",
       " 59: (56, 3),\n",
       " 60: (50, 10)}"
      ]
     },
     "execution_count": 19,
     "metadata": {},
     "output_type": "execute_result"
    }
   ],
   "source": [
    "solution_dynamic"
   ]
  },
  {
   "cell_type": "code",
   "execution_count": 20,
   "metadata": {},
   "outputs": [
    {
     "data": {
      "text/plain": [
       "{1: 1,\n",
       " 2: 5,\n",
       " 3: 8,\n",
       " 4: 10,\n",
       " 5: 13,\n",
       " 6: 17,\n",
       " 7: 18,\n",
       " 8: 22,\n",
       " 9: 25,\n",
       " 10: 30,\n",
       " 11: 31,\n",
       " 12: 35,\n",
       " 13: 38,\n",
       " 14: 40,\n",
       " 15: 43,\n",
       " 16: 47,\n",
       " 17: 48,\n",
       " 18: 52,\n",
       " 19: 55,\n",
       " 20: 60,\n",
       " 21: 61,\n",
       " 22: 65,\n",
       " 23: 68,\n",
       " 24: 70,\n",
       " 25: 73,\n",
       " 26: 77,\n",
       " 27: 78,\n",
       " 28: 82,\n",
       " 29: 85,\n",
       " 30: 90,\n",
       " 31: 91,\n",
       " 32: 95,\n",
       " 33: 98,\n",
       " 34: 100,\n",
       " 35: 103,\n",
       " 36: 107,\n",
       " 37: 108,\n",
       " 38: 112,\n",
       " 39: 115,\n",
       " 40: 120,\n",
       " 41: 121,\n",
       " 42: 125,\n",
       " 43: 128,\n",
       " 44: 130,\n",
       " 45: 133,\n",
       " 46: 137,\n",
       " 47: 138,\n",
       " 48: 142,\n",
       " 49: 145,\n",
       " 50: 150,\n",
       " 51: 151,\n",
       " 52: 155,\n",
       " 53: 158,\n",
       " 54: 160,\n",
       " 55: 163,\n",
       " 56: 167,\n",
       " 57: 168,\n",
       " 58: 172,\n",
       " 59: 175,\n",
       " 60: 180}"
      ]
     },
     "execution_count": 20,
     "metadata": {},
     "output_type": "execute_result"
    }
   ],
   "source": [
    "memo.already_computed"
   ]
  },
  {
   "cell_type": "code",
   "execution_count": 21,
   "metadata": {},
   "outputs": [
    {
     "data": {
      "text/plain": [
       "defaultdict(int,\n",
       "            {('r', 1): 1,\n",
       "             ('r', 2): 1,\n",
       "             ('r', 3): 1,\n",
       "             ('r', 4): 1,\n",
       "             ('r', 5): 1,\n",
       "             ('r', 6): 1,\n",
       "             ('r', 7): 1,\n",
       "             ('r', 8): 1,\n",
       "             ('r', 9): 1,\n",
       "             ('r', 10): 1,\n",
       "             ('r', 11): 1,\n",
       "             ('r', 12): 1,\n",
       "             ('r', 13): 1,\n",
       "             ('r', 14): 1,\n",
       "             ('r', 15): 1,\n",
       "             ('r', 16): 1,\n",
       "             ('r', 17): 1,\n",
       "             ('r', 18): 1,\n",
       "             ('r', 19): 1,\n",
       "             ('r', 20): 1,\n",
       "             ('r', 21): 1,\n",
       "             ('r', 22): 1,\n",
       "             ('r', 23): 1,\n",
       "             ('r', 24): 1,\n",
       "             ('r', 25): 1,\n",
       "             ('r', 26): 1,\n",
       "             ('r', 27): 1,\n",
       "             ('r', 28): 1,\n",
       "             ('r', 29): 1,\n",
       "             ('r', 30): 1,\n",
       "             ('r', 31): 1,\n",
       "             ('r', 32): 1,\n",
       "             ('r', 33): 1,\n",
       "             ('r', 34): 1,\n",
       "             ('r', 35): 1,\n",
       "             ('r', 36): 1,\n",
       "             ('r', 37): 1,\n",
       "             ('r', 38): 1,\n",
       "             ('r', 39): 1,\n",
       "             ('r', 40): 1,\n",
       "             ('r', 41): 1,\n",
       "             ('r', 42): 1,\n",
       "             ('r', 43): 1,\n",
       "             ('r', 44): 1,\n",
       "             ('r', 45): 1,\n",
       "             ('r', 46): 1,\n",
       "             ('r', 47): 1,\n",
       "             ('r', 48): 1,\n",
       "             ('r', 49): 1,\n",
       "             ('r', 50): 1,\n",
       "             ('r', 51): 1,\n",
       "             ('r', 52): 1,\n",
       "             ('r', 53): 1,\n",
       "             ('r', 54): 1,\n",
       "             ('r', 55): 1,\n",
       "             ('r', 56): 1,\n",
       "             ('r', 57): 1,\n",
       "             ('r', 58): 1,\n",
       "             ('r', 59): 1,\n",
       "             ('r', 60): 1})"
      ]
     },
     "execution_count": 21,
     "metadata": {},
     "output_type": "execute_result"
    }
   ],
   "source": [
    "called_time_with_arg"
   ]
  },
  {
   "cell_type": "code",
   "execution_count": null,
   "metadata": {},
   "outputs": [],
   "source": []
  }
 ],
 "metadata": {
  "kernelspec": {
   "display_name": "Python 3",
   "language": "python",
   "name": "python3"
  },
  "language_info": {
   "codemirror_mode": {
    "name": "ipython",
    "version": 3
   },
   "file_extension": ".py",
   "mimetype": "text/x-python",
   "name": "python",
   "nbconvert_exporter": "python",
   "pygments_lexer": "ipython3",
   "version": "3.7.3"
  }
 },
 "nbformat": 4,
 "nbformat_minor": 2
}
